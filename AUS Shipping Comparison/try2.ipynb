{
 "cells": [
  {
   "cell_type": "markdown",
   "metadata": {},
   "source": []
  },
  {
   "cell_type": "code",
   "execution_count": 9,
   "metadata": {},
   "outputs": [
    {
     "name": "stdout",
     "output_type": "stream",
     "text": [
      "          SKU  Landed Cost to AU Variant SKU  Variant Weight  Variant Price  \\\n",
      "0  941-000152         386.630000  941-000152            7.15          594.0   \n",
      "1  943-000125          41.420000  943-000125            0.36           39.0   \n",
      "2  945-000024         197.230000  945-000024            3.52          287.0   \n",
      "3  960-001090         132.530000  960-001090            0.34          157.0   \n",
      "4    CSX3BLK4        1060.736343    CSX3BLK4            0.01         2449.0   \n",
      "\n",
      "   Adjusted Price  Initial Gross Margin  Adjusted Gross Margin  \\\n",
      "0        605.6545            207.370000             219.024500   \n",
      "1         39.5868             -2.420000              -1.833200   \n",
      "2        292.7376             89.770000              95.507600   \n",
      "3        157.5542             24.470000              25.024200   \n",
      "4       2449.0163           1388.263657            1388.279957   \n",
      "\n",
      "   total_shipping_cost  \n",
      "0                  NaN  \n",
      "1                  NaN  \n",
      "2                  NaN  \n",
      "3                  NaN  \n",
      "4                  NaN  \n"
     ]
    }
   ],
   "source": [
    "import pandas as pd\n",
    "\n",
    "# Load the datasets\n",
    "landed_costs_path = 'C:/Users/olcay/Desktop/TASKS/TrakRacer/AUS Shipping Comparison/Take a look later on/Landed Costs AUS.xlsx'\n",
    "actual_product_price_path = 'C:/Users/olcay/Desktop/TASKS/TrakRacer/AUS Shipping Comparison/Take a look later on/Actual Product Price.xlsx'\n",
    "shipment_data_path = 'C:/Users/olcay/Desktop/TASKS/TrakRacer/AUS Shipping Comparison/Updated_Data_with_Logistic_Regression_Predictions.csv'  # Add the correct path for the shipment data CSV\n",
    "\n",
    "# Read the data from the Excel files\n",
    "landed_costs_data = pd.read_excel(landed_costs_path, sheet_name='All Product Cost')\n",
    "actual_product_price_data = pd.read_excel(actual_product_price_path, sheet_name='Products')\n",
    "shipment_data = pd.read_csv(shipment_data_path)\n",
    "\n",
    "# Extract the necessary columns\n",
    "landed_costs = landed_costs_data[['SKU', 'Landed Cost to AU']]\n",
    "product_prices = actual_product_price_data[['Variant SKU', 'Variant Weight', 'Variant Price']]\n",
    "\n",
    "# Merge the datasets on SKU\n",
    "merged_data = pd.merge(landed_costs, product_prices, left_on='SKU', right_on='Variant SKU', how='inner')\n",
    "\n",
    "# Calculate the adjusted final price using the weighted average shipping cost per kg\n",
    "weighted_avg_shipping_cost_per_kg = 1.63  # The previously calculated average shipping cost per kg\n",
    "merged_data['Adjusted Price'] = merged_data['Variant Price'] + (merged_data['Variant Weight'] * weighted_avg_shipping_cost_per_kg)\n",
    "\n",
    "# Calculate initial and adjusted gross margins\n",
    "merged_data['Initial Gross Margin'] = merged_data['Variant Price'] - merged_data['Landed Cost to AU']\n",
    "merged_data['Adjusted Gross Margin'] = merged_data['Adjusted Price'] - merged_data['Landed Cost to AU']\n",
    "\n",
    "# Process the shipment data to calculate total shipping costs per SKU\n",
    "shipment_data['SKUs'] = shipment_data['Product'].str.split(',')\n",
    "shipment_data_exploded = shipment_data.explode('SKUs')\n",
    "shipment_data_exploded['SKUs'] = shipment_data_exploded['SKUs'].str.strip()\n",
    "\n",
    "# Merge shipment data with SKU to get the relevant shipping costs\n",
    "shipping_costs_merged = pd.merge(shipment_data_exploded, landed_costs, left_on='SKUs', right_on='SKU', how='inner')\n",
    "shipping_costs_per_sku = shipping_costs_merged.groupby('SKU').agg(total_shipping_cost=('Total_Charge', 'sum')).reset_index()\n",
    "\n",
    "# Merge shipping costs back into the main dataset\n",
    "\n",
    "final_merged_data = pd.merge(merged_data, shipping_costs_per_sku, left_on='SKU', right_on='SKU', how='left')\n",
    "\n",
    "# Display the first few rows of the final merged data\n",
    "print(final_merged_data.head())\n",
    "\n",
    "# Save the final merged data to a new Excel file\n",
    "final_merged_data.to_excel('Final_Merged_Data_with_Margins_and_Shipping_Costs.xlsx', index=False)"
   ]
  },
  {
   "cell_type": "code",
   "execution_count": null,
   "metadata": {},
   "outputs": [],
   "source": [
    "final_merged_data['Adjusted Gross Margin'].sum()"
   ]
  },
  {
   "cell_type": "markdown",
   "metadata": {},
   "source": [
    "Missing Values"
   ]
  },
  {
   "cell_type": "code",
   "execution_count": 6,
   "metadata": {},
   "outputs": [
    {
     "name": "stdout",
     "output_type": "stream",
     "text": [
      "Total unique SKUs in 'Landed Costs AUS' dataset: 720\n",
      "Total unique SKUs in the merged dataset: 329\n",
      "Number of missing SKUs: 391\n",
      "Missing SKUs:\n",
      "{'TR80-TMARM2-BLK', '008011RNR', 'TR160-AINV3-CA', 'TRX-ALP-PART1', 'TR80L-WM-CA', 'SP-ENDCAP-4080', '008013RNR', 'SP-TR80-50', 'TR160S-L-4PBAL', 'TR80-NWMA-WM4', 'TR160-PEDALUP3', 'S01H4R', 'TR80-LITE-PART2', 'TR80-RUBS-BLUE', 'TR-MSW', 'VNM-S01PCB', 'MSI-PC2', 'SCAP-SET-2', 'TR120-AINV3USM2', 'TR120-WMPBAL', 'TRX-A-TK', 'TR160S-4PBAL', 'TR80-160B-BLACK', 'FS3-02', 'VNM-HBRL-CFP', 'MS-B33', 'TR160-AINV3', 'TR-SPMT-FS3-01', 'TR160S-L-AINV3', 'TR160-WMPBAL-DB', 'TR160S-DDPBAL', 'SL-BMW-TR', 'TR120-4PBNPSMEX', 'TRX-BLK23', 'DBOX-3250i', 'TK-SING-UPS', 'TR160-4PBNP-CA', 'TR80-160B-RED-GLOSS', 'RS6-FLT-NS', 'VNM-S01LBS', 'DBOX-4-BASE', 'SP-TRMAT-CAB', 'TR120-WMINV3SMEX', 'TR8-06-G-PART1', 'TR80-MM2-BLK', 'SC2ULT-TR-DD', 'TR120-APBALUSM2', 'TR120-WMINV3', 'TR160S-DDINV3', 'TR160S-BLK-PART1', 'FCORECLUTCHES', 'TR80-HPH', 'MS-FM-SML', '822-0038', 'SP-TR-TR8PRO', 'RS6-03-B-PART2', 'TR-RSB', 'DBOX-2250i', 'TR1602-BLK-PART3', 'TR80-DD', 'HB01PK', 'TR80-40B-BLK', 'SP-TR120SFT', 'TR80-2SCREWNUT', 'TRX-AL2-CA', 'TR8-06-B-PART1', 'TR160-DDPBNP-CA', 'TR80-80WM-BLK', 'TR120-WMINV3USM2', 'TRX-BLK-PART2', 'TR80L-NW', 'TR120-AINV3SMEX', 'TR80-A', '008014RNR', 'TR160S-4INV3', 'TRX-ALP23-PART3', 'TR8-06-G-PART2', 'VNM-S01AS', 'TR805-BLK-PART1', 'TR80-80B-BLK', 'S01H5R', 'TR160S-DDPBNP', 'TR80-BSBRACK', 'SP-TR80-12-BUND', 'SCACPE-SET-EU', 'TR80-RFSET', 'TR80-FMMS4-BLK', '008026GNR-EU', 'TR8PRO-FLT', 'TR-TR8-SING', 'TR8PRO', 'TR80L-WM', 'TR80-PCS', 'TR-TR8-M', 'TR80-TMSIN2-BLK', 'TR80-SMFS2-BLK', 'TR120-4PBALUSM2', 'TR160S-L-DDINV3', 'TR160-WM-BLK', 'MS-FM-SIN-TR', 'TRX-BLK23-PART3', 'MS-FM-SIN', 'TR120-APBNP', 'SRG-1', 'TR80-TMSML-BLK', 'TR-DDBR', 'TR8-05-B-PART1', 'TR160-WMPBAL-CA', 'TR160-WMINV3-DB', 'TRX-ALP-PART2', 'HBRK01', 'TR160-FLT', 'TRX-ALP23-PART2', 'SP-TR80-38', 'TR160-R2R-BUN1', 'MS-CM-SIN', 'MS-CM-SML', 'TR80-INVPED4', 'TR160-APBAL-DB', 'TR803-BLK-PART2', 'TR80-SMEX-FS', 'TR160-DDPBAL', 'TR160S-L-WMPBNP', 'DBOX-2-BASE', 'TM-80', 'TR804-BLK-PART2', 'QRXFSETBLKCLA', 'TR803-BLK-PART3', 'TR120-FRONTEND-BUND', 'VNM-HBRLCFP', '941-000121', 'TRX-ALP-PART3', 'MS-CM-QD', 'TR1604-BLK-PART1', 'TR80-HBSM-L3', 'TR160-4PBNP', 'MS-B34', 'TR160-4INV3', 'AOC-MON1', '9H.LK2LJ.TBE', 'SPK1', 'FS3-CA', 'TR160-WMINV3-CA', 'TRX-BLK23-PART1', 'TR-SPMT-TR8-1', 'TR160S-APBNP', 'RS6-05-B-PART2', 'TR1603-BLK-PART1', 'TR80-NWMA-DD', 'TR80-80B-BLACK', 'SA-10-SB', 'TR160S-L-PART1', 'TR120-APBAL', 'TR160-4PBNP-DB', 'TR120-APBNPSMEX', 'TR-FPWM', 'TR80-HYPL2', 'SP-TR80-NEWPLATE', 'MS-B32', 'MS-CM-SML-TR', 'TR160S-L-4PBNP', 'TR80-FANDDWM2', 'MS-CM-SIN-TR', 'TR160-4INV3-CA', 'TR160S-BLK-PART2', 'TR80-HYPL', 'TR8-04-B-PART1', 'TR804-BLK-PART1', 'SA-10 BUNDLE-SB', 'CSX3BLU6', 'TR8PRO-R2R-BUN1', 'VNM-HBRLC', 'TR160S-AINV3', 'TRX-BLK23-PART2', 'TR80-INVPED', 'TR80-VESA2', 'TR120-APBNPUSM2', 'TR80-4', 'TR802-BLK-PART3', 'TR-SBELT-L', '822-N002', 'TR120-AINV3', 'TR80-FS04-BUND', 'TRX-FLTBLK23', 'TR160S-WMPBAL', 'TRX-BLK-PART1', 'TRX-BLK23-CA', 'TR80-TMARM-BLK', 'MSI-PC1', 'TR1604-BLK-PART2', 'TR80-NWMA-SM', 'TR160-NW', 'TR160S-L-DDPBAL', 'TR80-A-CA', 'TR8PRO-1-TK', '822-0031', 'TR160S-APBAL', 'SQR-W', 'TR-RSB3', 'TR-PLATENWM2', 'SL-CSW-TR', 'TM-B3-27', 'TR80L-1-TK', 'DBOX-3-BASE', 'TR160-4PBAL-DB', 'TR160-DDINV3-DB', 'TR1602-BLK-PART2', '822-0034', 'RS6-06-B-PART1', 'TRX-AL2', '008235NR', 'LOG-KBM1', 'TR120-APBALSMEX', 'TR160-PSLIDER', 'TRX-BLK-PART3', 'TR160-F1PEDALUP', '822-N001', 'TR120-BLK-PART2', 'SP-TR80-31', 'TR80-PCS2', 'VNM-HBRPCB', 'TR160S-4PBNP', 'VNM-PE01S3', 'TR120-4INV3USM2', 'PS5-DIG', 'TR160-DDINV3-CA', 'TR120-4PBALSMEX', 'TR8-07-B-PART1', 'RS6-OLD', 'TR160S-L-WMPBAL', 'TR80-SMEX-BLK', '822-0033', 'TR120-NW', 'TR1603-BLK-PART2', 'TR120-DDPBALUSM2', 'TR160-APBAL', 'TR160-1-TK', 'TR80-RUBS-RED', 'TR80-PBPL2', 'SP-TR80-14-BUND', 'TR80-PBPL', 'TR160-APBAL-CA', 'MS-FM-DL', 'SP-TR80-55', 'TR80-WM2-BLK', 'SCAP-SET-3', 'TR803-BLK-PART1', 'TM-4MOUNT', 'SP-TR80-37', 'TR120-WMPBNPSMEX', 'TR160-PLATE', 'TR80-NWMABL2', 'TR804-BLK-PART3', 'VNM-PE01SPS', 'TR120-WMPBALSMEX', 'TR80-4-CA', 'TR8-05-B-PART2', 'TR80-WM-CA', 'TR1602-BLK-PART1', 'TR120-DDINV3-CA', 'TR80-WM', 'TR80-FS03', 'TR80-2SMEX-FS', 'TR1602-BLK-PART4', 'TR80-PCS3', 'MS-FM-SML-TR', 'QRXFSETBLUCLA', 'MS-TR-TR8-QD', 'MS-FM-QD', 'SP-TR80-54', 'TK-TRI-UPS', 'TR160-DDPBAL-CA', 'TR120-4INV3', 'TR8PRO-CA', 'TR160-WMPBNP-DB', 'TR160S-WMPBNP', 'SA-04', '822-0036', 'RS6-06-B-PART2', 'SP-TR80-49', 'TR1603-BLK-PART4', 'LOGITECH-PS5', 'TM-B3-27-3', 'MS-CM-DL', 'TR160S-WMINV3', 'TR80-NW', 'TR160-4PBAL', 'TR160-WMPBNP-CA', 'TR160S-L-WMINV3', 'DBOX-4250i', '822-0032', 'TR-WKIT2', 'TR120-4PBNPUSM2', '822-0037', 'CSX3BLK6', 'TR805-BLK-PART2', 'TR-MAT', 'TR160-4PBAL-CA', 'RS6-05-B-PART1', 'TR120-DDPBNPSMEX', 'TR8-07-B-PART2', 'TR80-FS04', 'TR160-APBNP', 'TR160-DDPBAL-DB', 'RS6-03-B-PART1', 'TR160-APBNP-DB', 'TR80-OFCPLATE', 'VNM-PE01PCB', 'TR120-DDPBAL', 'TR8PRO-GRAN', 'TR80-FS012', 'TR120-WMPBNPUSM2', '9H.LKALB.QBE', 'TR120-WMPBNP', 'VNM-PE01AS', 'TR80-4M2-BLK', 'TR120-DDPBNPUSM2', 'TR80-FS01', '008026GRS', 'TR-TR8-M2', 'TR80-NWMA3', 'TR160-WMPBAL', 'TR-GLOVE', 'TR160-DDINV3', 'TR160S-L-APBAL', 'TR1603-BLK-PART3', 'TR160S-L-PART2', 'HBRK15', 'TR120-DDPBALSMEX', 'TRX-ALP23-PART1', 'TM-B4-37-3', 'TR120-WMPBALUSM2', 'TR160S-L-4INV3', 'VNM-PE01LC', 'TR160-PEDALUP2', 'TR120-DDINV3USM2', 'TK-MON1', 'TR120-DDPBNP', 'TR80-FMMS3-BLK', 'TR120-FLT', 'TR-TR8BLM2', 'TR80-120B-BLK', 'TR80-SMEX2-BLK', 'TR80-LITE-PART1', 'TR80-PBAL2', 'TR120-SFTSUP', 'SC2PRETOFF', 'S01H7R', 'TM-B3-37-3', 'TR80-PLATE', 'TR160-APBNP-CA', 'TR120-DDINV3', 'TR120-SMEX-NB', 'TR120-BLK-PART1', '822-0035', 'TR120-DDINV3SMEX', 'TR1604-BLK-PART3', 'MS-BDL', 'TR8PRO-R2R-BUN2', 'TR80-DD-CA', 'FS3-G920', 'TR805-BLK-PART3', 'TR80-40B-BLACK', 'TR160-AINV3-DB', 'TR160-WMPBNP', 'TR120-4PBNP', 'TR80-RUBS-BLACK', 'TR160-WMINV3', 'TR120-4INV3SMEX', 'TR160S-L-DDPBNP', 'TRMOVE-BRACKET-2', 'TR160-DDPBNP', 'TR80-160B-BLK', 'TR80-DDM3', 'TR-HBMN-RL', 'TR-WKIT', 'TM-B4-27', 'RS6', 'TR80-SHIFTER4', 'TR80-120B-BLACK', 'TR160-4INV3-DB', 'SP-TR80-56', 'TR-TK-BUILD1', 'TR120-4PBAL', 'RS6-04-B-PART2', 'TR160S-L-APBNP', 'SA-05', 'SCACPE-SET-US', 'TR8-06-B-PART2', 'TR80-4M-BLK-PART1', 'TR160-DDPBNP-DB'}\n"
     ]
    }
   ],
   "source": [
    "# Check the total number of unique SKUs in the \"Landed Costs AUS\" dataset\n",
    "total_skus_landed_costs = landed_costs['SKU'].nunique()\n",
    "\n",
    "# Check the total number of unique SKUs in the merged dataset\n",
    "total_skus_merged = merged_data['SKU'].nunique()\n",
    "\n",
    "# Identify missing SKUs\n",
    "missing_skus = set(landed_costs['SKU']) - set(merged_data['SKU'])\n",
    "\n",
    "# Display the results\n",
    "print(f\"Total unique SKUs in 'Landed Costs AUS' dataset: {total_skus_landed_costs}\")\n",
    "print(f\"Total unique SKUs in the merged dataset: {total_skus_merged}\")\n",
    "print(f\"Number of missing SKUs: {len(missing_skus)}\")\n",
    "\n",
    "# If there are missing SKUs, display them\n",
    "if missing_skus:\n",
    "    print(\"Missing SKUs:\") \n",
    "    print(missing_skus)"
   ]
  },
  {
   "cell_type": "markdown",
   "metadata": {},
   "source": [
    "# Price Adjustment Factor : Weighted Average Comparison Method"
   ]
  },
  {
   "cell_type": "code",
   "execution_count": 1,
   "metadata": {},
   "outputs": [
    {
     "name": "stdout",
     "output_type": "stream",
     "text": [
      "Weighted Average Shipping Cost per Kg (Free Shipping States Only): 1.63\n",
      "Weighted Average Shipping Cost per Kg (All States): 1.86\n"
     ]
    },
    {
     "name": "stderr",
     "output_type": "stream",
     "text": [
      "C:\\Users\\olcay\\AppData\\Local\\Temp\\ipykernel_17940\\817370606.py:14: SettingWithCopyWarning: \n",
      "A value is trying to be set on a copy of a slice from a DataFrame.\n",
      "Try using .loc[row_indexer,col_indexer] = value instead\n",
      "\n",
      "See the caveats in the documentation: https://pandas.pydata.org/pandas-docs/stable/user_guide/indexing.html#returning-a-view-versus-a-copy\n",
      "  free_shipping_data['Shipping_Cost_per_Kg'] = free_shipping_data['Total_Charge'] / free_shipping_data['Weight']\n"
     ]
    }
   ],
   "source": [
    "import pandas as pd\n",
    "\n",
    "# Load the dataset\n",
    "shipment_data_path = 'C:/Users/olcay/Desktop/TASKS/TrakRacer/AUS Shipping Comparison/Updated_Data_with_Logistic_Regression_Predictions.csv'\n",
    "data = pd.read_csv(shipment_data_path)\n",
    "\n",
    "# Define the states that are not free shipping\n",
    "non_free_shipping_states = ['Western Australia', 'Northern Territory', 'Tasmania', 'New Zealand']\n",
    "\n",
    "# Filter the dataset to exclude non-free shipping states\n",
    "free_shipping_data = data[~data['State'].isin(non_free_shipping_states)]\n",
    "\n",
    "# Calculate the shipping cost per kg for free shipping states\n",
    "free_shipping_data['Shipping_Cost_per_Kg'] = free_shipping_data['Total_Charge'] / free_shipping_data['Weight']\n",
    "\n",
    "# Group by state to calculate the total weight and total shipping cost\n",
    "free_shipping_state_analysis = free_shipping_data.groupby('State').agg(\n",
    "    total_weight=('Weight', 'sum'),\n",
    "    total_shipping_cost=('Total_Charge', 'sum')\n",
    ").reset_index()\n",
    "\n",
    "# Calculate the weighted average shipping cost per kg for free shipping states\n",
    "total_weight_free_shipping = free_shipping_state_analysis['total_weight'].sum()\n",
    "total_shipping_cost_free_shipping = free_shipping_state_analysis['total_shipping_cost'].sum()\n",
    "weighted_avg_shipping_cost_per_kg_free_shipping = total_shipping_cost_free_shipping / total_weight_free_shipping\n",
    "\n",
    "# Calculate the shipping cost per kg for all states\n",
    "data['Shipping_Cost_per_Kg'] = data['Total_Charge'] / data['Weight']\n",
    "\n",
    "# Group by state to calculate the total weight and total shipping cost\n",
    "all_state_analysis = data.groupby('State').agg(\n",
    "    total_weight=('Weight', 'sum'),\n",
    "    total_shipping_cost=('Total_Charge', 'sum')\n",
    ").reset_index()\n",
    "\n",
    "# Calculate the weighted average shipping cost per kg for all states\n",
    "total_weight_all_states = all_state_analysis['total_weight'].sum()\n",
    "total_shipping_cost_all_states = all_state_analysis['total_shipping_cost'].sum()\n",
    "weighted_avg_shipping_cost_per_kg_all_states = total_shipping_cost_all_states / total_weight_all_states\n",
    "\n",
    "# Display results\n",
    "print(f\"Weighted Average Shipping Cost per Kg (Free Shipping States Only): {weighted_avg_shipping_cost_per_kg_free_shipping:.2f}\")\n",
    "print(f\"Weighted Average Shipping Cost per Kg (All States): {weighted_avg_shipping_cost_per_kg_all_states:.2f}\")\n"
   ]
  },
  {
   "cell_type": "markdown",
   "metadata": {},
   "source": [
    "Validity of the 1.63 "
   ]
  },
  {
   "cell_type": "markdown",
   "metadata": {},
   "source": [
    "# Average Initial Gross Margin"
   ]
  },
  {
   "cell_type": "code",
   "execution_count": 8,
   "metadata": {},
   "outputs": [
    {
     "name": "stdout",
     "output_type": "stream",
     "text": [
      "Average Initial Gross Margin: 465.00\n",
      "Average Adjusted Gross Margin: 590.87\n",
      "Average Increase in Gross Margin: 125.88\n",
      "Average Shipping Cost per Order: 1039.05\n"
     ]
    }
   ],
   "source": [
    "import pandas as pd\n",
    "\n",
    "# Load the data from the provided Excel file\n",
    "file_path = 'C:/Users/olcay/Desktop/TASKS/TrakRacer/AUS Shipping Comparison//Final_Merged_Data_with_Margins_and_Shipping_Costs.xlsx'\n",
    "data = pd.read_excel(file_path)\n",
    "\n",
    "# Calculate the average initial and adjusted gross margins\n",
    "average_initial_gross_margin = data['Initial Gross Margin'].mean()\n",
    "average_adjusted_gross_margin = data['Adjusted Gross Margin'].mean()\n",
    "\n",
    "# Calculate the average increase in gross margin\n",
    "average_gross_margin_increase = average_adjusted_gross_margin - average_initial_gross_margin\n",
    "\n",
    "# Calculate the average shipping cost per order\n",
    "average_shipping_cost_per_order = data['total_shipping_cost'].mean()\n",
    "\n",
    "# Display results\n",
    "print(f\"Average Initial Gross Margin: {average_initial_gross_margin:.2f}\")\n",
    "print(f\"Average Adjusted Gross Margin: {average_adjusted_gross_margin:.2f}\")\n",
    "print(f\"Average Increase in Gross Margin: {average_gross_margin_increase:.2f}\")\n",
    "print(f\"Average Shipping Cost per Order: {average_shipping_cost_per_order:.2f}\")\n",
    "\n",
    "# Save the results to a new Excel file\n",
    "summary_data = {\n",
    "    'Metric': ['Average Initial Gross Margin', 'Average Adjusted Gross Margin', 'Average Increase in Gross Margin', 'Average Shipping Cost per Order'],\n",
    "    'Value': [average_initial_gross_margin, average_adjusted_gross_margin, average_gross_margin_increase, average_shipping_cost_per_order]\n",
    "}\n",
    "summary_df = pd.DataFrame(summary_data)\n",
    "summary_df.to_excel('Gross_Margin_Comparison_Summary.xlsx', index=False)"
   ]
  },
  {
   "cell_type": "code",
   "execution_count": 17,
   "metadata": {},
   "outputs": [
    {
     "name": "stdout",
     "output_type": "stream",
     "text": [
      "          SKU  Landed Cost to AU Variant SKU  Variant Weight  Variant Price  \\\n",
      "0  941-000152         386.630000  941-000152            7.15          594.0   \n",
      "1  943-000125          41.420000  943-000125            0.36           39.0   \n",
      "2  945-000024         197.230000  945-000024            3.52          287.0   \n",
      "3  960-001090         132.530000  960-001090            0.34          157.0   \n",
      "4    CSX3BLK4        1060.736343    CSX3BLK4            0.01         2449.0   \n",
      "\n",
      "   Adjusted Price  Initial Gross Margin  Adjusted Gross Margin  \\\n",
      "0        605.6545            207.370000             219.024500   \n",
      "1         39.5868             -2.420000              -1.833200   \n",
      "2        292.7376             89.770000              95.507600   \n",
      "3        157.5542             24.470000              25.024200   \n",
      "4       2449.0163           1388.263657            1388.279957   \n",
      "\n",
      "   total_shipping_cost  \n",
      "0                  NaN  \n",
      "1                  NaN  \n",
      "2                  NaN  \n",
      "3                  NaN  \n",
      "4                  NaN  \n"
     ]
    },
    {
     "name": "stderr",
     "output_type": "stream",
     "text": [
      "C:\\Users\\olcay\\AppData\\Local\\Temp\\ipykernel_17940\\1381202329.py:33: SettingWithCopyWarning: \n",
      "A value is trying to be set on a copy of a slice from a DataFrame.\n",
      "Try using .loc[row_indexer,col_indexer] = value instead\n",
      "\n",
      "See the caveats in the documentation: https://pandas.pydata.org/pandas-docs/stable/user_guide/indexing.html#returning-a-view-versus-a-copy\n",
      "  filtered_shipment_data['SKUs'] = filtered_shipment_data['Product'].str.split(',')\n"
     ]
    }
   ],
   "source": [
    "import pandas as pd\n",
    "\n",
    "# Load the datasets\n",
    "landed_costs_path = 'C:/Users/olcay/Desktop/TASKS/TrakRacer/AUS Shipping Comparison/Take a look later on/Landed Costs AUS.xlsx'\n",
    "actual_product_price_path = 'C:/Users/olcay/Desktop/TASKS/TrakRacer/AUS Shipping Comparison/Take a look later on/Actual Product Price.xlsx'\n",
    "shipment_data_path = 'C:/Users/olcay/Desktop/TASKS/TrakRacer/AUS Shipping Comparison/Updated_Data_with_Logistic_Regression_Predictions.csv'\n",
    "\n",
    "# Read the data from the Excel files\n",
    "landed_costs_data = pd.read_excel(landed_costs_path, sheet_name='All Product Cost')\n",
    "actual_product_price_data = pd.read_excel(actual_product_price_path, sheet_name='Products')\n",
    "shipment_data = pd.read_csv(shipment_data_path)\n",
    "\n",
    "# Filter out the excluded states from shipment data\n",
    "excluded_states = ['Western Australia', 'Northern Territory', 'Tasmania', 'New Zealand']\n",
    "filtered_shipment_data = shipment_data[~shipment_data['State'].isin(excluded_states)]\n",
    "\n",
    "# Extract the necessary columns\n",
    "landed_costs = landed_costs_data[['SKU', 'Landed Cost to AU']]\n",
    "product_prices = actual_product_price_data[['Variant SKU', 'Variant Weight', 'Variant Price']]\n",
    "\n",
    "# Merge the datasets on SKU\n",
    "merged_data = pd.merge(landed_costs, product_prices, left_on='SKU', right_on='Variant SKU', how='inner')\n",
    "\n",
    "# Calculate the adjusted final price using the weighted average shipping cost per kg\n",
    "weighted_avg_shipping_cost_per_kg = 1.63  # The previously calculated average shipping cost per kg\n",
    "merged_data['Adjusted Price'] = merged_data['Variant Price'] + (merged_data['Variant Weight'] * weighted_avg_shipping_cost_per_kg)\n",
    "\n",
    "# Calculate initial and adjusted gross margins\n",
    "merged_data['Initial Gross Margin'] = merged_data['Variant Price'] - merged_data['Landed Cost to AU']\n",
    "merged_data['Adjusted Gross Margin'] = merged_data['Adjusted Price'] - merged_data['Landed Cost to AU']\n",
    "\n",
    "# Process the shipment data to calculate total shipping costs per SKU\n",
    "filtered_shipment_data['SKUs'] = filtered_shipment_data['Product'].str.split(',')\n",
    "shipment_data_exploded = filtered_shipment_data.explode('SKUs')\n",
    "shipment_data_exploded['SKUs'] = shipment_data_exploded['SKUs'].str.strip()\n",
    "\n",
    "# Merge shipment data with SKU to get the relevant shipping costs\n",
    "shipping_costs_merged = pd.merge(shipment_data_exploded, landed_costs, left_on='SKUs', right_on='SKU', how='inner')\n",
    "shipping_costs_per_sku = shipping_costs_merged.groupby('SKU').agg(total_shipping_cost=('Total_Charge', 'sum')).reset_index()\n",
    "\n",
    "# Merge shipping costs back into the main dataset\n",
    "final_merged_data = pd.merge(merged_data, shipping_costs_per_sku, left_on='SKU', right_on='SKU', how='left')\n",
    "\n",
    "# Display the first few rows of the final merged data\n",
    "print(final_merged_data.head())\n",
    "\n",
    "# Save the final merged data to a new Excel file\n",
    "# final_merged_data.to_excel('Final_Merged_Data_with_Margins_and_Shipping_Costs.xlsx', index=False)\n"
   ]
  },
  {
   "cell_type": "code",
   "execution_count": 18,
   "metadata": {},
   "outputs": [
    {
     "name": "stdout",
     "output_type": "stream",
     "text": [
      "   Total Products  Total Landed Cost  Total Initial Gross Margin  \\\n",
      "0             329       36692.358744                61379.641256   \n",
      "\n",
      "   Total Adjusted Gross Margin  Average Initial Gross Margin  \\\n",
      "0                 62606.145351                    464.997282   \n",
      "\n",
      "   Average Adjusted Gross Margin  Total Shipping Cost  \\\n",
      "0                      474.28898             158974.2   \n",
      "\n",
      "   Average Shipping Cost per Product  \n",
      "0                        1039.047059  \n"
     ]
    }
   ],
   "source": [
    "import pandas as pd\n",
    "\n",
    "# Load the final merged data\n",
    "final_merged_data_path = 'Final_Merged_Data_with_Margins_and_Shipping_Costs.xlsx'\n",
    "final_merged_data = pd.read_excel(final_merged_data_path)\n",
    "\n",
    "# Calculate aggregated statistics\n",
    "aggregated_stats = {\n",
    "    'Total Products': final_merged_data['SKU'].nunique(),\n",
    "    'Total Landed Cost': final_merged_data['Landed Cost to AU'].sum(),\n",
    "    'Total Initial Gross Margin': final_merged_data['Initial Gross Margin'].sum(),\n",
    "    'Total Adjusted Gross Margin': final_merged_data['Adjusted Gross Margin'].sum(),\n",
    "    'Average Initial Gross Margin': final_merged_data['Initial Gross Margin'].mean(),\n",
    "    'Average Adjusted Gross Margin': final_merged_data['Adjusted Gross Margin'].mean(),\n",
    "    'Total Shipping Cost': final_merged_data['total_shipping_cost'].sum(),\n",
    "    'Average Shipping Cost per Product': final_merged_data['total_shipping_cost'].mean()\n",
    "}\n",
    "\n",
    "# Display aggregated statistics\n",
    "aggregated_stats_df = pd.DataFrame([aggregated_stats])\n",
    "print(aggregated_stats_df)"
   ]
  },
  {
   "cell_type": "code",
   "execution_count": 12,
   "metadata": {},
   "outputs": [
    {
     "name": "stdout",
     "output_type": "stream",
     "text": [
      "Average Initial Gross Margin: 96.19\n",
      "Average Adjusted Gross Margin: 97.42\n",
      "Average Increase in Gross Margin: 1.22\n",
      "Average Actual Shipping Cost per Order: 286.36\n",
      "Average Adjusted Shipping Cost per Order: 23.89\n"
     ]
    },
    {
     "name": "stderr",
     "output_type": "stream",
     "text": [
      "C:\\Users\\olcay\\AppData\\Local\\Temp\\ipykernel_17940\\2662319410.py:19: SettingWithCopyWarning: \n",
      "A value is trying to be set on a copy of a slice from a DataFrame.\n",
      "Try using .loc[row_indexer,col_indexer] = value instead\n",
      "\n",
      "See the caveats in the documentation: https://pandas.pydata.org/pandas-docs/stable/user_guide/indexing.html#returning-a-view-versus-a-copy\n",
      "  landed_costs['Landed Cost to AU'] = pd.to_numeric(landed_costs['Landed Cost to AU'], errors='coerce')\n"
     ]
    }
   ],
   "source": [
    "import pandas as pd\n",
    "\n",
    "# Load the datasets\n",
    "landed_costs_path = 'C:/Users/olcay/Desktop/TASKS/TrakRacer/AUS Shipping Comparison/Take a look later on/Landed Costs AUS.xlsx'\n",
    "actual_product_price_path = 'C:/Users/olcay/Desktop/TASKS/TrakRacer/AUS Shipping Comparison/Take a look later on/Actual Product Price.xlsx'\n",
    "shipment_data_path = 'C:/Users/olcay/Desktop/TASKS/TrakRacer/AUS Shipping Comparison/Updated_Data_with_Logistic_Regression_Predictions.csv'\n",
    "\n",
    "# Read the data from the Excel files\n",
    "landed_costs_data = pd.read_excel(landed_costs_path, sheet_name='All Product Cost')\n",
    "actual_product_price_data = pd.read_excel(actual_product_price_path, sheet_name='Products')\n",
    "shipment_data = pd.read_csv(shipment_data_path)\n",
    "\n",
    "# Extract the necessary columns\n",
    "landed_costs = landed_costs_data[['SKU', 'Landed Cost to AU']]\n",
    "product_prices = actual_product_price_data[['Variant SKU', 'Variant Weight', 'Variant Price']]\n",
    "shipment_data = shipment_data[['Order_Number', 'Product', 'Total_Charge', 'Date']]\n",
    "\n",
    "# Replace '#REF!' and other non-numeric values with NaN\n",
    "landed_costs['Landed Cost to AU'] = pd.to_numeric(landed_costs['Landed Cost to AU'], errors='coerce')\n",
    "\n",
    "# Filter shipment data for June\n",
    "shipment_data['Date'] = pd.to_datetime(shipment_data['Date'])\n",
    "shipment_data_june = shipment_data[shipment_data['Date'].dt.month == 6]\n",
    "\n",
    "# Process the shipment data to calculate total shipping costs per order\n",
    "shipment_data_june['SKUs'] = shipment_data_june['Product'].str.split(',')\n",
    "shipment_data_exploded = shipment_data_june.explode('SKUs')\n",
    "shipment_data_exploded['SKUs'] = shipment_data_exploded['SKUs'].str.strip()\n",
    "\n",
    "# Merge shipment data with product data\n",
    "merged_data = pd.merge(shipment_data_exploded, product_prices, left_on='SKUs', right_on='Variant SKU', how='left')\n",
    "merged_data = pd.merge(merged_data, landed_costs, left_on='SKUs', right_on='SKU', how='left')\n",
    "\n",
    "# Calculate the adjusted final price using the weighted average shipping cost per kg\n",
    "weighted_avg_shipping_cost_per_kg = 1.63\n",
    "merged_data['Adjusted Price'] = merged_data['Variant Price'] + (merged_data['Variant Weight'] * weighted_avg_shipping_cost_per_kg)\n",
    "\n",
    "# Calculate initial and adjusted gross margins\n",
    "merged_data['Initial Gross Margin'] = merged_data['Variant Price'] - merged_data['Landed Cost to AU']\n",
    "merged_data['Adjusted Gross Margin'] = merged_data['Adjusted Price'] - merged_data['Landed Cost to AU']\n",
    "\n",
    "# Fill N/A values for margins\n",
    "merged_data['Initial Gross Margin'] = merged_data['Initial Gross Margin'].fillna(0)\n",
    "merged_data['Adjusted Gross Margin'] = merged_data['Adjusted Gross Margin'].fillna(0)\n",
    "\n",
    "# Calculate the adjusted shipping cost for each SKU\n",
    "merged_data['Adjusted Shipping Cost'] = merged_data['Variant Weight'] * weighted_avg_shipping_cost_per_kg\n",
    "\n",
    "# Summarize total gross margins and shipping costs per order\n",
    "order_summary = merged_data.groupby('Order_Number').agg(\n",
    "    total_initial_gross_margin=('Initial Gross Margin', 'sum'),\n",
    "    total_adjusted_gross_margin=('Adjusted Gross Margin', 'sum'),\n",
    "    total_actual_shipping_cost=('Total_Charge', 'sum'),\n",
    "    total_adjusted_shipping_cost=('Adjusted Shipping Cost', 'sum')\n",
    ").reset_index()\n",
    "\n",
    "# Calculate average values\n",
    "average_initial_gross_margin = order_summary['total_initial_gross_margin'].mean()\n",
    "average_adjusted_gross_margin = order_summary['total_adjusted_gross_margin'].mean()\n",
    "average_gross_margin_increase = average_adjusted_gross_margin - average_initial_gross_margin\n",
    "average_actual_shipping_cost_per_order = order_summary['total_actual_shipping_cost'].mean()\n",
    "average_adjusted_shipping_cost_per_order = order_summary['total_adjusted_shipping_cost'].mean()\n",
    "\n",
    "# Display results\n",
    "print(f\"Average Initial Gross Margin: {average_initial_gross_margin:.2f}\")\n",
    "print(f\"Average Adjusted Gross Margin: {average_adjusted_gross_margin:.2f}\")\n",
    "print(f\"Average Increase in Gross Margin: {average_gross_margin_increase:.2f}\")\n",
    "print(f\"Average Actual Shipping Cost per Order: {average_actual_shipping_cost_per_order:.2f}\")\n",
    "print(f\"Average Adjusted Shipping Cost per Order: {average_adjusted_shipping_cost_per_order:.2f}\")\n",
    "\n",
    "# Save the detailed comparison to a new Excel file\n",
    "# order_summary.to_excel('Order_Summary_with_Gross_Margins_and_Shipping_Costs.xlsx', index=False)\n"
   ]
  },
  {
   "cell_type": "markdown",
   "metadata": {},
   "source": [
    "# Final"
   ]
  },
  {
   "cell_type": "code",
   "execution_count": null,
   "metadata": {},
   "outputs": [],
   "source": [
    "import pandas as pd\n",
    "\n",
    "# Load the data from the provided Excel file\n",
    "file_path = '/mnt/data/Order_AUS.xlsx'\n",
    "data = pd.read_excel(file_path)\n",
    "\n",
    "# Define the excluded states\n",
    "excluded_states = [\"Western Australia\", \"Northern Territory\", \"Tasmania\", \"New Zealand\"]\n",
    "\n",
    "# Filter out orders with 0.00 shipping cost\n",
    "filtered_data = data[data['Shipping'] > 0]\n",
    "# Filter out orders with 0.00 shipping cost\n",
    "filtered_data = data[data['Shipping'] > 0]\n",
    "\n",
    "# Calculate the adjusted subtotal after applying the discount\n",
    "filtered_data['adjusted_subtotal'] = filtered_data['Lineitem price'] - filtered_data['Discount Amount']\n",
    "\n",
    "# Calculate the required increase percentage for each order to cover shipping costs\n",
    "filtered_data['required_increase_percentage'] = (filtered_data['Shipping'] / filtered_data['adjusted_subtotal']) * 100\n",
    "\n",
    "# Compute the median of the required increase percentages\n",
    "median_required_increase_percentage = filtered_data['required_increase_percentage'].median()\n",
    "\n",
    "# Compute the weighted average of the required increase percentages\n",
    "weighted_avg_required_increase_percentage = (filtered_data['required_increase_percentage'] * filtered_data['adjusted_subtotal']).sum() / filtered_data['adjusted_subtotal'].sum()\n",
    "\n",
    "# Calculate the adjusted increase percentage\n",
    "adjusted_increase_percentage = (median_required_increase_percentage + weighted_avg_required_increase_percentage) / 2\n",
    "\n",
    "# Display the calculated percentages\n",
    "print(\"Median Required Increase Percentage:\", median_required_increase_percentage)\n",
    "print(\"Weighted Average Required Increase Percentage:\", weighted_avg_required_increase_percentage)\n",
    "print(\"Adjusted Increase Percentage:\", adjusted_increase_percentage)"
   ]
  },
  {
   "cell_type": "markdown",
   "metadata": {},
   "source": [
    "Working from the final Data"
   ]
  }
 ],
 "metadata": {
  "kernelspec": {
   "display_name": "Python 3",
   "language": "python",
   "name": "python3"
  },
  "language_info": {
   "codemirror_mode": {
    "name": "ipython",
    "version": 3
   },
   "file_extension": ".py",
   "mimetype": "text/x-python",
   "name": "python",
   "nbconvert_exporter": "python",
   "pygments_lexer": "ipython3",
   "version": "3.11.9"
  }
 },
 "nbformat": 4,
 "nbformat_minor": 2
}
