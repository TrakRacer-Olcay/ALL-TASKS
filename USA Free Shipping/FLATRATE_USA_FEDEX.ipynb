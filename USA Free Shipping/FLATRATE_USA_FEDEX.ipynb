{
 "cells": [
  {
   "cell_type": "code",
   "execution_count": 1,
   "metadata": {},
   "outputs": [
    {
     "name": "stdout",
     "output_type": "stream",
     "text": [
      "File loaded successfully!\n"
     ]
    }
   ],
   "source": [
    "import pandas as pd\n",
    "from openpyxl import load_workbook\n",
    "from zipfile import BadZipFile\n",
    "\n",
    "file_path = \"C:/Users/olcay/Desktop/TASKS/TrakRacer/USA Free Shipping/TRONERATE.xlsx\"\n",
    "\n",
    "try:\n",
    "    # Try loading the workbook\n",
    "    wb = load_workbook(filename=file_path)\n",
    "    df = pd.read_excel(file_path, engine='openpyxl')\n",
    "    print(\"File loaded successfully!\")\n",
    "except BadZipFile:\n",
    "    print(\"Error: The file is not a valid Excel file or is corrupted.\")\n",
    "except FileNotFoundError:\n",
    "    print(\"Error: The file was not found at the specified path.\")\n",
    "except Exception as e:\n",
    "    print(f\"An unexpected error occurred: {e}\")\n"
   ]
  },
  {
   "cell_type": "code",
   "execution_count": 2,
   "metadata": {},
   "outputs": [],
   "source": [
    "\n",
    "\n",
    "# Define the correct packaging criteria based on FedEx One Rate categories and the rates\n",
    "def get_one_rate_category(weight, length, width, height):\n",
    "    if weight > 50:  # Check if the package exceeds the weight limit for One Rate\n",
    "        return \"Not Eligible\", 0\n",
    "\n",
    "    volume = length * width * height\n",
    "    if volume <= 300 and max(length, width, height) <= 15.5:\n",
    "        return \"FedEx Envelope\", 7.19  # Rate for Envelope\n",
    "    elif volume <= 650 and max(length, width, height) <= 15.5:\n",
    "        return \"FedEx Pak\", 9.32  # Rate for Pak\n",
    "    elif volume <= 420 and max(length, width, height) <= 12.375:\n",
    "        return \"FedEx Small Box\", 10.41  # Rate for Small Box\n",
    "    elif volume <= 650 and max(length, width, height) <= 13.25:\n",
    "        return \"FedEx Medium Box\", 12.97  # Rate for Medium Box\n",
    "    elif volume <= 1100 and max(length, width, height) <= 17.5:\n",
    "        return \"FedEx Large Box\", 17.64  # Rate for Large Box\n",
    "    elif volume <= 2200 and max(length, width, height) <= 15.75:\n",
    "        return \"FedEx Extra Large Box\", 23.59  # Rate for Extra Large Box\n",
    "    else:\n",
    "        return \"Not Eligible\", 0\n",
    "\n"
   ]
  },
  {
   "cell_type": "code",
   "execution_count": 3,
   "metadata": {},
   "outputs": [
    {
     "data": {
      "text/html": [
       "<div>\n",
       "<style scoped>\n",
       "    .dataframe tbody tr th:only-of-type {\n",
       "        vertical-align: middle;\n",
       "    }\n",
       "\n",
       "    .dataframe tbody tr th {\n",
       "        vertical-align: top;\n",
       "    }\n",
       "\n",
       "    .dataframe thead th {\n",
       "        text-align: right;\n",
       "    }\n",
       "</style>\n",
       "<table border=\"1\" class=\"dataframe\">\n",
       "  <thead>\n",
       "    <tr style=\"text-align: right;\">\n",
       "      <th></th>\n",
       "      <th>SKU</th>\n",
       "      <th>LENGTH(INCHES)</th>\n",
       "      <th>WIDTH(INCHES)</th>\n",
       "      <th>HEIGHT(INCHES)</th>\n",
       "      <th>GW（LBS)</th>\n",
       "      <th>One Rate Category</th>\n",
       "      <th>One Rate Cost</th>\n",
       "    </tr>\n",
       "  </thead>\n",
       "  <tbody>\n",
       "    <tr>\n",
       "      <th>0</th>\n",
       "      <td>008011RNR</td>\n",
       "      <td>23.031508</td>\n",
       "      <td>23.031508</td>\n",
       "      <td>38.031517</td>\n",
       "      <td>25.08</td>\n",
       "      <td>Not Eligible</td>\n",
       "      <td>0.0</td>\n",
       "    </tr>\n",
       "    <tr>\n",
       "      <th>1</th>\n",
       "      <td>008013RNR</td>\n",
       "      <td>23.031508</td>\n",
       "      <td>23.031508</td>\n",
       "      <td>38.031517</td>\n",
       "      <td>25.08</td>\n",
       "      <td>Not Eligible</td>\n",
       "      <td>0.0</td>\n",
       "    </tr>\n",
       "    <tr>\n",
       "      <th>2</th>\n",
       "      <td>008014RNR</td>\n",
       "      <td>23.031508</td>\n",
       "      <td>23.031508</td>\n",
       "      <td>38.031517</td>\n",
       "      <td>25.08</td>\n",
       "      <td>Not Eligible</td>\n",
       "      <td>0.0</td>\n",
       "    </tr>\n",
       "    <tr>\n",
       "      <th>3</th>\n",
       "      <td>008026GNR-EU</td>\n",
       "      <td>23.031508</td>\n",
       "      <td>23.031508</td>\n",
       "      <td>38.031517</td>\n",
       "      <td>25.08</td>\n",
       "      <td>Not Eligible</td>\n",
       "      <td>0.0</td>\n",
       "    </tr>\n",
       "    <tr>\n",
       "      <th>4</th>\n",
       "      <td>008026GRS</td>\n",
       "      <td>23.031508</td>\n",
       "      <td>23.031508</td>\n",
       "      <td>38.031517</td>\n",
       "      <td>25.08</td>\n",
       "      <td>Not Eligible</td>\n",
       "      <td>0.0</td>\n",
       "    </tr>\n",
       "  </tbody>\n",
       "</table>\n",
       "</div>"
      ],
      "text/plain": [
       "            SKU  LENGTH(INCHES)  WIDTH(INCHES)  HEIGHT(INCHES)   GW（LBS)  \\\n",
       "0     008011RNR       23.031508      23.031508       38.031517     25.08   \n",
       "1     008013RNR       23.031508      23.031508       38.031517     25.08   \n",
       "2     008014RNR       23.031508      23.031508       38.031517     25.08   \n",
       "3  008026GNR-EU       23.031508      23.031508       38.031517     25.08   \n",
       "4     008026GRS       23.031508      23.031508       38.031517     25.08   \n",
       "\n",
       "  One Rate Category  One Rate Cost  \n",
       "0      Not Eligible            0.0  \n",
       "1      Not Eligible            0.0  \n",
       "2      Not Eligible            0.0  \n",
       "3      Not Eligible            0.0  \n",
       "4      Not Eligible            0.0  "
      ]
     },
     "execution_count": 3,
     "metadata": {},
     "output_type": "execute_result"
    }
   ],
   "source": [
    "# Apply the One Rate category and cost function to the DataFrame\n",
    "df['One Rate Category'], df['One Rate Cost'] = zip(*df.apply(\n",
    "    lambda row: get_one_rate_category(row[' GW（LBS)'], row['LENGTH(INCHES)'], row['WIDTH(INCHES)'], row['HEIGHT(INCHES)']), axis=1))\n",
    "\n",
    "df.head(5)"
   ]
  },
  {
   "cell_type": "markdown",
   "metadata": {},
   "source": [
    "### OVERWRITING CODE"
   ]
  },
  {
   "cell_type": "code",
   "execution_count": 5,
   "metadata": {},
   "outputs": [],
   "source": [
    "# Write back to the same Excel file\n",
    "# with pd.ExcelWriter(file_path, engine='openpyxl', mode='a', if_sheet_exists='overlay') as writer:\n",
    "    # df.to_excel(writer, index=False, sheet_name='Sheet2')  # Adjust 'Sheet1' as necessary"
   ]
  },
  {
   "cell_type": "code",
   "execution_count": 9,
   "metadata": {},
   "outputs": [
    {
     "name": "stdout",
     "output_type": "stream",
     "text": [
      "     Weight (lbs)  Low Zone Rate  Medium Zone Rate  High Zone Rate\n",
      "0               1      10.700000            10.700          10.700\n",
      "1               2      10.700000            10.700          10.700\n",
      "2               3      10.700000            10.700          10.700\n",
      "3               4      10.700000            10.700          10.700\n",
      "4               5      10.700000            10.700          10.700\n",
      "..            ...            ...               ...             ...\n",
      "123           124      27.223333            31.460          38.920\n",
      "124           125      27.223333            31.460          38.920\n",
      "125           126      27.673333            31.560          39.645\n",
      "126           127      28.020000            32.405          39.975\n",
      "127           128      28.103333            32.510          40.295\n",
      "\n",
      "[128 rows x 4 columns]\n"
     ]
    }
   ],
   "source": [
    "\n",
    "\n",
    "# Load the Excel file and select the relevant sheet\n",
    "file_path_excluded = 'TRNETRATES_Excluded.xlsx'  # Replace with your file path\n",
    "rate_table_filtered = pd.read_excel(file_path_excluded, engine='openpyxl', sheet_name='Table 1', skiprows=164, nrows=128)\n",
    "\n",
    "# Function to clean and convert data to numeric\n",
    "def clean_numeric(data):\n",
    "    return pd.to_numeric(data.replace('[^0-9.]', '', regex=True), errors='coerce')\n",
    "\n",
    "# Extract numerical values from relevant columns\n",
    "low_zone_rates_filtered = rate_table_filtered[[2, 3, 4]].apply(clean_numeric)\n",
    "medium_zone_rates_filtered = rate_table_filtered[[5, 6]].apply(clean_numeric)\n",
    "high_zone_rates_filtered = rate_table_filtered[[7, 8]].apply(clean_numeric)\n",
    "\n",
    "# Extract weights\n",
    "weights_filtered = clean_numeric(rate_table_filtered['lbs.'])\n",
    "\n",
    "# Combine weights and rates into a cleaned DataFrame\n",
    "cleaned_data_filtered_final = pd.DataFrame({\n",
    "    'Weight (lbs)': weights_filtered,\n",
    "    'Low Zone Rate': low_zone_rates_filtered.mean(axis=1, skipna=True),\n",
    "    'Medium Zone Rate': medium_zone_rates_filtered.mean(axis=1, skipna=True),\n",
    "    'High Zone Rate': high_zone_rates_filtered.mean(axis=1, skipna=True)\n",
    "})\n",
    "\n",
    "# Display the cleaned and filtered data\n",
    "print(cleaned_data_filtered_final)\n"
   ]
  },
  {
   "cell_type": "code",
   "execution_count": 20,
   "metadata": {},
   "outputs": [],
   "source": [
    "import numpy as np\n",
    "# Define a function to fetch zone rates based on the rounded weight\n",
    "def get_zone_rates(weight):\n",
    "    # Check if the weight exceeds 71 lbs for special handling\n",
    "    if weight > 71:\n",
    "        # Fetch the rates for the 71-pound package\n",
    "        row_71 = cleaned_data_filtered_final[cleaned_data_filtered_final['Weight (lbs)'] == 71]\n",
    "        if not row_71.empty:\n",
    "            low_rate_71 = row_71['Low Zone Rate'].values[0]\n",
    "            medium_rate_71 = row_71['Medium Zone Rate'].values[0]\n",
    "            high_rate_71 = row_71['High Zone Rate'].values[0]\n",
    "            \n",
    "            # Calculate the per-pound rate and then the cost for the actual weight\n",
    "            low_zone_cost = (low_rate_71 / 71) * weight\n",
    "            medium_zone_cost = (medium_rate_71 / 71) * weight\n",
    "            high_zone_cost = (high_rate_71 / 71) * weight\n",
    "            return low_zone_cost, medium_zone_cost, high_zone_cost\n",
    "    \n",
    "    # Regular handling for weights up to 71 lbs\n",
    "    row = cleaned_data_filtered_final[cleaned_data_filtered_final['Weight (lbs)'] == weight]\n",
    "    if not row.empty:\n",
    "        return row['Low Zone Rate'].values[0], row['Medium Zone Rate'].values[0], row['High Zone Rate'].values[0]\n",
    "    else:\n",
    "        return None, None, None\n",
    "\n",
    "# Define a function to round and ceil the weights\n",
    "def round_and_ceil(weight):\n",
    "    return np.ceil(weight)\n",
    "\n",
    "# Apply the rounding and ceiling to ' GW（LBS)' and then match the rates\n",
    "df['Rounded GW（LBS)'] = df[' GW（LBS)'].apply(round_and_ceil)\n",
    "\n",
    "# Reapply the zone rates with the updated rounded and ceiled weights\n",
    "df['Low Zone Cost'], df['Medium Zone Cost'], df['High Zone Cost'] = zip(*df['Rounded GW（LBS)'].apply(get_zone_rates))\n",
    "\n",
    "# Remove the 'Rounded GW（LBS)' column before saving\n",
    "df.drop(columns=['Rounded GW（LBS)'], inplace=True)\n"
   ]
  },
  {
   "cell_type": "markdown",
   "metadata": {},
   "source": [
    "### OVERWRITE 2"
   ]
  },
  {
   "cell_type": "code",
   "execution_count": 25,
   "metadata": {},
   "outputs": [],
   "source": [
    "# Write back to the same Excel file\n",
    "with pd.ExcelWriter(file_path, engine='openpyxl', mode='a', if_sheet_exists='overlay') as writer:\n",
    "    df.to_excel(writer, index=False, sheet_name='Sheet2')"
   ]
  }
 ],
 "metadata": {
  "kernelspec": {
   "display_name": "Python 3",
   "language": "python",
   "name": "python3"
  },
  "language_info": {
   "codemirror_mode": {
    "name": "ipython",
    "version": 3
   },
   "file_extension": ".py",
   "mimetype": "text/x-python",
   "name": "python",
   "nbconvert_exporter": "python",
   "pygments_lexer": "ipython3",
   "version": "3.11.9"
  }
 },
 "nbformat": 4,
 "nbformat_minor": 2
}
